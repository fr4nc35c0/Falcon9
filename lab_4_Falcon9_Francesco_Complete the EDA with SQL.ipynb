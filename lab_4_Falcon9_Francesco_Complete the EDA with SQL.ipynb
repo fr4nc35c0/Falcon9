{
  "cells": [
    {
      "cell_type": "code",
      "metadata": {
        "colab": {
          "base_uri": "https://localhost:8080/"
        },
        "id": "adf784f5-459e-484a-bad0-6761db6873fd",
        "outputId": "5bb393ff-53b6-48e3-b84d-fec50a14ff71"
      },
      "outputs": [
        {
          "output_type": "stream",
          "name": "stdout",
          "text": [
            "Looking in indexes: https://pypi.org/simple, https://us-python.pkg.dev/colab-wheels/public/simple/\n",
            "Requirement already satisfied: sqlalchemy==1.3.9 in /usr/local/lib/python3.10/dist-packages (1.3.9)\n"
          ]
        }
      ],
      "source": [
        "!pip install sqlalchemy==1.3.9"
      ],
      "execution_count": 81
    },
    {
      "cell_type": "code",
      "metadata": {
        "colab": {
          "base_uri": "https://localhost:8080/"
        },
        "id": "a4212cf5-7fbb-42d1-98b1-89b995918d34",
        "outputId": "cfafccfd-fb63-4eda-93dc-4b4532c43378"
      },
      "outputs": [
        {
          "output_type": "stream",
          "name": "stdout",
          "text": [
            "The sql extension is already loaded. To reload it, use:\n",
            "  %reload_ext sql\n"
          ]
        }
      ],
      "source": [
        "%load_ext sql"
      ],
      "execution_count": 82
    },
    {
      "cell_type": "code",
      "metadata": {
        "id": "43997a1f-0838-44cc-bd62-9a1ce91d3639"
      },
      "outputs": [],
      "source": [
        "import csv, sqlite3\n",
        "\n",
        "con = sqlite3.connect(\"my_data1.db\")\n",
        "cur = con.cursor()"
      ],
      "execution_count": 83
    },
    {
      "cell_type": "code",
      "metadata": {
        "id": "52e125f7-902c-440a-af54-1ca71a4dab33"
      },
      "outputs": [],
      "source": [
        "%sql sqlite:///my_data1.db"
      ],
      "execution_count": 84
    },
    {
      "cell_type": "code",
      "metadata": {
        "colab": {
          "base_uri": "https://localhost:8080/"
        },
        "id": "711b8b7b-be15-41ff-a7e5-7fec0b66c8c1",
        "outputId": "fedf325f-bf7b-4fa6-8ebd-3892d92f1aff"
      },
      "outputs": [
        {
          "output_type": "execute_result",
          "data": {
            "text/plain": [
              "999"
            ]
          },
          "metadata": {},
          "execution_count": 85
        }
      ],
      "source": [
        "import pandas as pd\n",
        "df = pd.read_csv(\"https://cf-courses-data.s3.us.cloud-object-storage.appdomain.cloud/IBM-DS0321EN-SkillsNetwork/labs/module_2/data/Spacex.csv\")\n",
        "df.to_sql(\"SPACEXTBL\", con, if_exists='replace', index=False,method=\"multi\")"
      ],
      "execution_count": 85
    },
    {
      "cell_type": "code",
      "metadata": {
        "colab": {
          "base_uri": "https://localhost:8080/"
        },
        "id": "e0f8f6b6-fa9b-4e78-8715-ec767ed76fdb",
        "outputId": "1794431c-29cc-46b0-e150-3cd47dcaf3bf"
      },
      "outputs": [
        {
          "output_type": "stream",
          "name": "stdout",
          "text": [
            "CCAFS LC-40\n",
            "VAFB SLC-4E\n",
            "KSC LC-39A\n",
            "CCAFS SLC-40\n"
          ]
        }
      ],
      "source": [
        "# Display the names of the unique launch sites  in the space mission\n",
        "\n",
        "res = cur.execute(\"SELECT DISTINCT Launch_Site \\\n",
        "                   from SPACEXTBL\")\n",
        "\n",
        "res = res.fetchall()\n",
        "res = [launch[0] for launch in res]\n",
        "\n",
        "for i in res:\n",
        "    if i is None:\n",
        "        pass\n",
        "    else:\n",
        "        print(i)"
      ],
      "execution_count": 86
    },
    {
      "cell_type": "code",
      "metadata": {
        "colab": {
          "base_uri": "https://localhost:8080/"
        },
        "id": "6c7ee27a-0f5a-479b-bb6d-a46f75bc28cd",
        "outputId": "e7c70275-1d6c-47fe-d25f-b9ce31b7338f"
      },
      "outputs": [
        {
          "output_type": "stream",
          "name": "stdout",
          "text": [
            "('06/04/2010', '18:45:00', 'F9 v1.0  B0003', 'CCAFS LC-40', 'Dragon Spacecraft Qualification Unit', 0.0, 'LEO', 'SpaceX', 'Success', 'Failure (parachute)')\n",
            "('12/08/2010', '15:43:00', 'F9 v1.0  B0004', 'CCAFS LC-40', 'Dragon demo flight C1, two CubeSats, barrel of Brouere cheese', 0.0, 'LEO (ISS)', 'NASA (COTS) NRO', 'Success', 'Failure (parachute)')\n",
            "('22/05/2012', '7:44:00', 'F9 v1.0  B0005', 'CCAFS LC-40', 'Dragon demo flight C2', 525.0, 'LEO (ISS)', 'NASA (COTS)', 'Success', 'No attempt')\n",
            "('10/08/2012', '0:35:00', 'F9 v1.0  B0006', 'CCAFS LC-40', 'SpaceX CRS-1', 500.0, 'LEO (ISS)', 'NASA (CRS)', 'Success', 'No attempt')\n",
            "('03/01/2013', '15:10:00', 'F9 v1.0  B0007', 'CCAFS LC-40', 'SpaceX CRS-2', 677.0, 'LEO (ISS)', 'NASA (CRS)', 'Success', 'No attempt')\n"
          ]
        }
      ],
      "source": [
        "# Display 5 records where launch sites begin with the string 'CCA'\n",
        "res = cur.execute(\"SELECT * \\\n",
        "                    FROM SPACEXTBL \\\n",
        "                    WHERE Launch_Site LIKE 'CCA%' \\\n",
        "                    LIMIT 5\").fetchall()\n",
        "\n",
        "for row in res:\n",
        "    print(row)"
      ],
      "execution_count": 127
    },
    {
      "cell_type": "code",
      "metadata": {
        "colab": {
          "base_uri": "https://localhost:8080/"
        },
        "id": "a44f81de-43cf-43d7-ac21-6f3446b64160",
        "outputId": "994d18f6-d3e7-429f-9e5c-c8fb99a77a90"
      },
      "outputs": [
        {
          "output_type": "stream",
          "name": "stdout",
          "text": [
            "45596.0\n"
          ]
        }
      ],
      "source": [
        "# Display the total payload mass carried by boosters launched by NASA (CRS)\n",
        "res = cur.execute(\"SELECT sum(PAYLOAD_MASS__KG_) as 'Total Payload' \\\n",
        "                    FROM SPACEXTBL \\\n",
        "                    WHERE Customer LIKE 'NASA (CRS)'\").fetchall()\n",
        "\n",
        "print(res[0][0])"
      ],
      "execution_count": 121
    },
    {
      "cell_type": "code",
      "metadata": {
        "colab": {
          "base_uri": "https://localhost:8080/"
        },
        "id": "b33fc5c5-5cb8-46c5-b171-f6a06435864f",
        "outputId": "e0c0f31f-f7d0-4f4a-bd3c-016681e0e551"
      },
      "outputs": [
        {
          "output_type": "stream",
          "name": "stdout",
          "text": [
            "2928.4\n"
          ]
        }
      ],
      "source": [
        "# Display average payload mass carried by booster version F9 v1.1\n",
        "res = cur.execute(\"SELECT avg(PAYLOAD_MASS__KG_) as 'Avarage Payload Mass'\\\n",
        "                    FROM SPACEXTBL \\\n",
        "                    WHERE Booster_Version LIKE 'F9 v1.1'\").fetchall()\n",
        "\n",
        "print(res[0][0])"
      ],
      "execution_count": 120
    },
    {
      "cell_type": "code",
      "metadata": {
        "colab": {
          "base_uri": "https://localhost:8080/"
        },
        "id": "3462067a-d39e-4641-8479-e16a3d792f3c",
        "outputId": "c2c2a142-407d-4732-f923-e55b1b49497e"
      },
      "outputs": [
        {
          "output_type": "stream",
          "name": "stdout",
          "text": [
            "01/08/2018\n"
          ]
        }
      ],
      "source": [
        "# List the date when the first succesful landing outcome in ground pad was acheived.\n",
        "\n",
        "res = cur.execute(\"SELECT min(Date) \\\n",
        "                    FROM SPACEXTBL \\\n",
        "                    WHERE Landing_Outcome LIKE '%ground pad%'\").fetchall()\n",
        "\n",
        "print(res[0][0])"
      ],
      "execution_count": 119
    },
    {
      "cell_type": "code",
      "metadata": {
        "colab": {
          "base_uri": "https://localhost:8080/"
        },
        "id": "a3bab44b-2deb-48af-a9db-8da9ddc4ce1c",
        "outputId": "15aa89a0-1319-4f6d-e368-c8fb98b70c20"
      },
      "outputs": [
        {
          "output_type": "stream",
          "name": "stdout",
          "text": [
            "[('F9 v1.1', 'AsiaSat 8'), ('F9 v1.1 B1011', 'AsiaSat 6'), ('F9 v1.1 B1014', 'ABS-3A Eutelsat 115 West B'), ('F9 v1.1 B1016', 'Turkmen 52 / MonacoSAT'), ('F9 FT B1020', 'SES-9'), ('F9 FT B1022', 'JCSAT-14'), ('F9 FT B1026', 'JCSAT-16'), ('F9 FT B1030', 'EchoStar 23'), ('F9 FT  B1021.2', 'SES-10'), ('F9 FT B1032.1', 'NROL-76'), ('F9 B4 B1040.1', 'Boeing X-37B OTV-5'), ('F9 FT  B1031.2', 'SES-11 / EchoStar 105'), ('F9 B4 B1043.1', 'Zuma'), ('F9 FT  B1032.2', 'GovSat-1 / SES-16'), ('F9 B4  B1040.2', 'SES-12'), ('F9 B5 B1046.2', 'Merah Putih '), ('F9 B5 B1047.2', 'Es hail 2'), ('F9 B5 B1046.3', 'SSO-A '), ('F9 B5B1054', 'GPS III-01 '), ('F9 B5 B1048.3', 'Nusantara Satu, Beresheet Moon lander, S5'), ('F9 B5 B1051.2 ', 'RADARSAT Constellation, SpaceX CRS-18 '), ('F9 B5B1060.1', 'GPS III-03, ANASIS-II'), ('F9 B5 B1058.2 ', 'ANASIS-II, Starlink 9 v1.0'), ('F9 B5B1062.1', 'GPS III-04 , Crew-1')]\n",
            "[('F9 v1.1', 'AsiaSat 8'), ('F9 v1.1 B1011', 'AsiaSat 6'), ('F9 v1.1 B1014', 'ABS-3A Eutelsat 115 West B'), ('F9 v1.1 B1016', 'Turkmen 52 / MonacoSAT'), ('F9 FT B1020', 'SES-9'), ('F9 FT B1022', 'JCSAT-14'), ('F9 FT B1026', 'JCSAT-16'), ('F9 FT B1030', 'EchoStar 23'), ('F9 FT  B1021.2', 'SES-10'), ('F9 FT B1032.1', 'NROL-76'), ('F9 B4 B1040.1', 'Boeing X-37B OTV-5'), ('F9 FT  B1031.2', 'SES-11 / EchoStar 105'), ('F9 B4 B1043.1', 'Zuma'), ('F9 FT  B1032.2', 'GovSat-1 / SES-16'), ('F9 B4  B1040.2', 'SES-12'), ('F9 B5 B1046.2', 'Merah Putih '), ('F9 B5 B1047.2', 'Es hail 2'), ('F9 B5 B1046.3', 'SSO-A '), ('F9 B5B1054', 'GPS III-01 '), ('F9 B5 B1048.3', 'Nusantara Satu, Beresheet Moon lander, S5'), ('F9 B5 B1051.2 ', 'RADARSAT Constellation, SpaceX CRS-18 '), ('F9 B5B1060.1', 'GPS III-03, ANASIS-II'), ('F9 B5 B1058.2 ', 'ANASIS-II, Starlink 9 v1.0'), ('F9 B5B1062.1', 'GPS III-04 , Crew-1')]\n",
            "[('F9 v1.1', 'AsiaSat 8'), ('F9 v1.1 B1011', 'AsiaSat 6'), ('F9 v1.1 B1014', 'ABS-3A Eutelsat 115 West B'), ('F9 v1.1 B1016', 'Turkmen 52 / MonacoSAT'), ('F9 FT B1020', 'SES-9'), ('F9 FT B1022', 'JCSAT-14'), ('F9 FT B1026', 'JCSAT-16'), ('F9 FT B1030', 'EchoStar 23'), ('F9 FT  B1021.2', 'SES-10'), ('F9 FT B1032.1', 'NROL-76'), ('F9 B4 B1040.1', 'Boeing X-37B OTV-5'), ('F9 FT  B1031.2', 'SES-11 / EchoStar 105'), ('F9 B4 B1043.1', 'Zuma'), ('F9 FT  B1032.2', 'GovSat-1 / SES-16'), ('F9 B4  B1040.2', 'SES-12'), ('F9 B5 B1046.2', 'Merah Putih '), ('F9 B5 B1047.2', 'Es hail 2'), ('F9 B5 B1046.3', 'SSO-A '), ('F9 B5B1054', 'GPS III-01 '), ('F9 B5 B1048.3', 'Nusantara Satu, Beresheet Moon lander, S5'), ('F9 B5 B1051.2 ', 'RADARSAT Constellation, SpaceX CRS-18 '), ('F9 B5B1060.1', 'GPS III-03, ANASIS-II'), ('F9 B5 B1058.2 ', 'ANASIS-II, Starlink 9 v1.0'), ('F9 B5B1062.1', 'GPS III-04 , Crew-1')]\n",
            "[('F9 v1.1', 'AsiaSat 8'), ('F9 v1.1 B1011', 'AsiaSat 6'), ('F9 v1.1 B1014', 'ABS-3A Eutelsat 115 West B'), ('F9 v1.1 B1016', 'Turkmen 52 / MonacoSAT'), ('F9 FT B1020', 'SES-9'), ('F9 FT B1022', 'JCSAT-14'), ('F9 FT B1026', 'JCSAT-16'), ('F9 FT B1030', 'EchoStar 23'), ('F9 FT  B1021.2', 'SES-10'), ('F9 FT B1032.1', 'NROL-76'), ('F9 B4 B1040.1', 'Boeing X-37B OTV-5'), ('F9 FT  B1031.2', 'SES-11 / EchoStar 105'), ('F9 B4 B1043.1', 'Zuma'), ('F9 FT  B1032.2', 'GovSat-1 / SES-16'), ('F9 B4  B1040.2', 'SES-12'), ('F9 B5 B1046.2', 'Merah Putih '), ('F9 B5 B1047.2', 'Es hail 2'), ('F9 B5 B1046.3', 'SSO-A '), ('F9 B5B1054', 'GPS III-01 '), ('F9 B5 B1048.3', 'Nusantara Satu, Beresheet Moon lander, S5'), ('F9 B5 B1051.2 ', 'RADARSAT Constellation, SpaceX CRS-18 '), ('F9 B5B1060.1', 'GPS III-03, ANASIS-II'), ('F9 B5 B1058.2 ', 'ANASIS-II, Starlink 9 v1.0'), ('F9 B5B1062.1', 'GPS III-04 , Crew-1')]\n",
            "[('F9 v1.1', 'AsiaSat 8'), ('F9 v1.1 B1011', 'AsiaSat 6'), ('F9 v1.1 B1014', 'ABS-3A Eutelsat 115 West B'), ('F9 v1.1 B1016', 'Turkmen 52 / MonacoSAT'), ('F9 FT B1020', 'SES-9'), ('F9 FT B1022', 'JCSAT-14'), ('F9 FT B1026', 'JCSAT-16'), ('F9 FT B1030', 'EchoStar 23'), ('F9 FT  B1021.2', 'SES-10'), ('F9 FT B1032.1', 'NROL-76'), ('F9 B4 B1040.1', 'Boeing X-37B OTV-5'), ('F9 FT  B1031.2', 'SES-11 / EchoStar 105'), ('F9 B4 B1043.1', 'Zuma'), ('F9 FT  B1032.2', 'GovSat-1 / SES-16'), ('F9 B4  B1040.2', 'SES-12'), ('F9 B5 B1046.2', 'Merah Putih '), ('F9 B5 B1047.2', 'Es hail 2'), ('F9 B5 B1046.3', 'SSO-A '), ('F9 B5B1054', 'GPS III-01 '), ('F9 B5 B1048.3', 'Nusantara Satu, Beresheet Moon lander, S5'), ('F9 B5 B1051.2 ', 'RADARSAT Constellation, SpaceX CRS-18 '), ('F9 B5B1060.1', 'GPS III-03, ANASIS-II'), ('F9 B5 B1058.2 ', 'ANASIS-II, Starlink 9 v1.0'), ('F9 B5B1062.1', 'GPS III-04 , Crew-1')]\n",
            "[('F9 v1.1', 'AsiaSat 8'), ('F9 v1.1 B1011', 'AsiaSat 6'), ('F9 v1.1 B1014', 'ABS-3A Eutelsat 115 West B'), ('F9 v1.1 B1016', 'Turkmen 52 / MonacoSAT'), ('F9 FT B1020', 'SES-9'), ('F9 FT B1022', 'JCSAT-14'), ('F9 FT B1026', 'JCSAT-16'), ('F9 FT B1030', 'EchoStar 23'), ('F9 FT  B1021.2', 'SES-10'), ('F9 FT B1032.1', 'NROL-76'), ('F9 B4 B1040.1', 'Boeing X-37B OTV-5'), ('F9 FT  B1031.2', 'SES-11 / EchoStar 105'), ('F9 B4 B1043.1', 'Zuma'), ('F9 FT  B1032.2', 'GovSat-1 / SES-16'), ('F9 B4  B1040.2', 'SES-12'), ('F9 B5 B1046.2', 'Merah Putih '), ('F9 B5 B1047.2', 'Es hail 2'), ('F9 B5 B1046.3', 'SSO-A '), ('F9 B5B1054', 'GPS III-01 '), ('F9 B5 B1048.3', 'Nusantara Satu, Beresheet Moon lander, S5'), ('F9 B5 B1051.2 ', 'RADARSAT Constellation, SpaceX CRS-18 '), ('F9 B5B1060.1', 'GPS III-03, ANASIS-II'), ('F9 B5 B1058.2 ', 'ANASIS-II, Starlink 9 v1.0'), ('F9 B5B1062.1', 'GPS III-04 , Crew-1')]\n",
            "[('F9 v1.1', 'AsiaSat 8'), ('F9 v1.1 B1011', 'AsiaSat 6'), ('F9 v1.1 B1014', 'ABS-3A Eutelsat 115 West B'), ('F9 v1.1 B1016', 'Turkmen 52 / MonacoSAT'), ('F9 FT B1020', 'SES-9'), ('F9 FT B1022', 'JCSAT-14'), ('F9 FT B1026', 'JCSAT-16'), ('F9 FT B1030', 'EchoStar 23'), ('F9 FT  B1021.2', 'SES-10'), ('F9 FT B1032.1', 'NROL-76'), ('F9 B4 B1040.1', 'Boeing X-37B OTV-5'), ('F9 FT  B1031.2', 'SES-11 / EchoStar 105'), ('F9 B4 B1043.1', 'Zuma'), ('F9 FT  B1032.2', 'GovSat-1 / SES-16'), ('F9 B4  B1040.2', 'SES-12'), ('F9 B5 B1046.2', 'Merah Putih '), ('F9 B5 B1047.2', 'Es hail 2'), ('F9 B5 B1046.3', 'SSO-A '), ('F9 B5B1054', 'GPS III-01 '), ('F9 B5 B1048.3', 'Nusantara Satu, Beresheet Moon lander, S5'), ('F9 B5 B1051.2 ', 'RADARSAT Constellation, SpaceX CRS-18 '), ('F9 B5B1060.1', 'GPS III-03, ANASIS-II'), ('F9 B5 B1058.2 ', 'ANASIS-II, Starlink 9 v1.0'), ('F9 B5B1062.1', 'GPS III-04 , Crew-1')]\n",
            "[('F9 v1.1', 'AsiaSat 8'), ('F9 v1.1 B1011', 'AsiaSat 6'), ('F9 v1.1 B1014', 'ABS-3A Eutelsat 115 West B'), ('F9 v1.1 B1016', 'Turkmen 52 / MonacoSAT'), ('F9 FT B1020', 'SES-9'), ('F9 FT B1022', 'JCSAT-14'), ('F9 FT B1026', 'JCSAT-16'), ('F9 FT B1030', 'EchoStar 23'), ('F9 FT  B1021.2', 'SES-10'), ('F9 FT B1032.1', 'NROL-76'), ('F9 B4 B1040.1', 'Boeing X-37B OTV-5'), ('F9 FT  B1031.2', 'SES-11 / EchoStar 105'), ('F9 B4 B1043.1', 'Zuma'), ('F9 FT  B1032.2', 'GovSat-1 / SES-16'), ('F9 B4  B1040.2', 'SES-12'), ('F9 B5 B1046.2', 'Merah Putih '), ('F9 B5 B1047.2', 'Es hail 2'), ('F9 B5 B1046.3', 'SSO-A '), ('F9 B5B1054', 'GPS III-01 '), ('F9 B5 B1048.3', 'Nusantara Satu, Beresheet Moon lander, S5'), ('F9 B5 B1051.2 ', 'RADARSAT Constellation, SpaceX CRS-18 '), ('F9 B5B1060.1', 'GPS III-03, ANASIS-II'), ('F9 B5 B1058.2 ', 'ANASIS-II, Starlink 9 v1.0'), ('F9 B5B1062.1', 'GPS III-04 , Crew-1')]\n",
            "[('F9 v1.1', 'AsiaSat 8'), ('F9 v1.1 B1011', 'AsiaSat 6'), ('F9 v1.1 B1014', 'ABS-3A Eutelsat 115 West B'), ('F9 v1.1 B1016', 'Turkmen 52 / MonacoSAT'), ('F9 FT B1020', 'SES-9'), ('F9 FT B1022', 'JCSAT-14'), ('F9 FT B1026', 'JCSAT-16'), ('F9 FT B1030', 'EchoStar 23'), ('F9 FT  B1021.2', 'SES-10'), ('F9 FT B1032.1', 'NROL-76'), ('F9 B4 B1040.1', 'Boeing X-37B OTV-5'), ('F9 FT  B1031.2', 'SES-11 / EchoStar 105'), ('F9 B4 B1043.1', 'Zuma'), ('F9 FT  B1032.2', 'GovSat-1 / SES-16'), ('F9 B4  B1040.2', 'SES-12'), ('F9 B5 B1046.2', 'Merah Putih '), ('F9 B5 B1047.2', 'Es hail 2'), ('F9 B5 B1046.3', 'SSO-A '), ('F9 B5B1054', 'GPS III-01 '), ('F9 B5 B1048.3', 'Nusantara Satu, Beresheet Moon lander, S5'), ('F9 B5 B1051.2 ', 'RADARSAT Constellation, SpaceX CRS-18 '), ('F9 B5B1060.1', 'GPS III-03, ANASIS-II'), ('F9 B5 B1058.2 ', 'ANASIS-II, Starlink 9 v1.0'), ('F9 B5B1062.1', 'GPS III-04 , Crew-1')]\n",
            "[('F9 v1.1', 'AsiaSat 8'), ('F9 v1.1 B1011', 'AsiaSat 6'), ('F9 v1.1 B1014', 'ABS-3A Eutelsat 115 West B'), ('F9 v1.1 B1016', 'Turkmen 52 / MonacoSAT'), ('F9 FT B1020', 'SES-9'), ('F9 FT B1022', 'JCSAT-14'), ('F9 FT B1026', 'JCSAT-16'), ('F9 FT B1030', 'EchoStar 23'), ('F9 FT  B1021.2', 'SES-10'), ('F9 FT B1032.1', 'NROL-76'), ('F9 B4 B1040.1', 'Boeing X-37B OTV-5'), ('F9 FT  B1031.2', 'SES-11 / EchoStar 105'), ('F9 B4 B1043.1', 'Zuma'), ('F9 FT  B1032.2', 'GovSat-1 / SES-16'), ('F9 B4  B1040.2', 'SES-12'), ('F9 B5 B1046.2', 'Merah Putih '), ('F9 B5 B1047.2', 'Es hail 2'), ('F9 B5 B1046.3', 'SSO-A '), ('F9 B5B1054', 'GPS III-01 '), ('F9 B5 B1048.3', 'Nusantara Satu, Beresheet Moon lander, S5'), ('F9 B5 B1051.2 ', 'RADARSAT Constellation, SpaceX CRS-18 '), ('F9 B5B1060.1', 'GPS III-03, ANASIS-II'), ('F9 B5 B1058.2 ', 'ANASIS-II, Starlink 9 v1.0'), ('F9 B5B1062.1', 'GPS III-04 , Crew-1')]\n",
            "[('F9 v1.1', 'AsiaSat 8'), ('F9 v1.1 B1011', 'AsiaSat 6'), ('F9 v1.1 B1014', 'ABS-3A Eutelsat 115 West B'), ('F9 v1.1 B1016', 'Turkmen 52 / MonacoSAT'), ('F9 FT B1020', 'SES-9'), ('F9 FT B1022', 'JCSAT-14'), ('F9 FT B1026', 'JCSAT-16'), ('F9 FT B1030', 'EchoStar 23'), ('F9 FT  B1021.2', 'SES-10'), ('F9 FT B1032.1', 'NROL-76'), ('F9 B4 B1040.1', 'Boeing X-37B OTV-5'), ('F9 FT  B1031.2', 'SES-11 / EchoStar 105'), ('F9 B4 B1043.1', 'Zuma'), ('F9 FT  B1032.2', 'GovSat-1 / SES-16'), ('F9 B4  B1040.2', 'SES-12'), ('F9 B5 B1046.2', 'Merah Putih '), ('F9 B5 B1047.2', 'Es hail 2'), ('F9 B5 B1046.3', 'SSO-A '), ('F9 B5B1054', 'GPS III-01 '), ('F9 B5 B1048.3', 'Nusantara Satu, Beresheet Moon lander, S5'), ('F9 B5 B1051.2 ', 'RADARSAT Constellation, SpaceX CRS-18 '), ('F9 B5B1060.1', 'GPS III-03, ANASIS-II'), ('F9 B5 B1058.2 ', 'ANASIS-II, Starlink 9 v1.0'), ('F9 B5B1062.1', 'GPS III-04 , Crew-1')]\n",
            "[('F9 v1.1', 'AsiaSat 8'), ('F9 v1.1 B1011', 'AsiaSat 6'), ('F9 v1.1 B1014', 'ABS-3A Eutelsat 115 West B'), ('F9 v1.1 B1016', 'Turkmen 52 / MonacoSAT'), ('F9 FT B1020', 'SES-9'), ('F9 FT B1022', 'JCSAT-14'), ('F9 FT B1026', 'JCSAT-16'), ('F9 FT B1030', 'EchoStar 23'), ('F9 FT  B1021.2', 'SES-10'), ('F9 FT B1032.1', 'NROL-76'), ('F9 B4 B1040.1', 'Boeing X-37B OTV-5'), ('F9 FT  B1031.2', 'SES-11 / EchoStar 105'), ('F9 B4 B1043.1', 'Zuma'), ('F9 FT  B1032.2', 'GovSat-1 / SES-16'), ('F9 B4  B1040.2', 'SES-12'), ('F9 B5 B1046.2', 'Merah Putih '), ('F9 B5 B1047.2', 'Es hail 2'), ('F9 B5 B1046.3', 'SSO-A '), ('F9 B5B1054', 'GPS III-01 '), ('F9 B5 B1048.3', 'Nusantara Satu, Beresheet Moon lander, S5'), ('F9 B5 B1051.2 ', 'RADARSAT Constellation, SpaceX CRS-18 '), ('F9 B5B1060.1', 'GPS III-03, ANASIS-II'), ('F9 B5 B1058.2 ', 'ANASIS-II, Starlink 9 v1.0'), ('F9 B5B1062.1', 'GPS III-04 , Crew-1')]\n",
            "[('F9 v1.1', 'AsiaSat 8'), ('F9 v1.1 B1011', 'AsiaSat 6'), ('F9 v1.1 B1014', 'ABS-3A Eutelsat 115 West B'), ('F9 v1.1 B1016', 'Turkmen 52 / MonacoSAT'), ('F9 FT B1020', 'SES-9'), ('F9 FT B1022', 'JCSAT-14'), ('F9 FT B1026', 'JCSAT-16'), ('F9 FT B1030', 'EchoStar 23'), ('F9 FT  B1021.2', 'SES-10'), ('F9 FT B1032.1', 'NROL-76'), ('F9 B4 B1040.1', 'Boeing X-37B OTV-5'), ('F9 FT  B1031.2', 'SES-11 / EchoStar 105'), ('F9 B4 B1043.1', 'Zuma'), ('F9 FT  B1032.2', 'GovSat-1 / SES-16'), ('F9 B4  B1040.2', 'SES-12'), ('F9 B5 B1046.2', 'Merah Putih '), ('F9 B5 B1047.2', 'Es hail 2'), ('F9 B5 B1046.3', 'SSO-A '), ('F9 B5B1054', 'GPS III-01 '), ('F9 B5 B1048.3', 'Nusantara Satu, Beresheet Moon lander, S5'), ('F9 B5 B1051.2 ', 'RADARSAT Constellation, SpaceX CRS-18 '), ('F9 B5B1060.1', 'GPS III-03, ANASIS-II'), ('F9 B5 B1058.2 ', 'ANASIS-II, Starlink 9 v1.0'), ('F9 B5B1062.1', 'GPS III-04 , Crew-1')]\n",
            "[('F9 v1.1', 'AsiaSat 8'), ('F9 v1.1 B1011', 'AsiaSat 6'), ('F9 v1.1 B1014', 'ABS-3A Eutelsat 115 West B'), ('F9 v1.1 B1016', 'Turkmen 52 / MonacoSAT'), ('F9 FT B1020', 'SES-9'), ('F9 FT B1022', 'JCSAT-14'), ('F9 FT B1026', 'JCSAT-16'), ('F9 FT B1030', 'EchoStar 23'), ('F9 FT  B1021.2', 'SES-10'), ('F9 FT B1032.1', 'NROL-76'), ('F9 B4 B1040.1', 'Boeing X-37B OTV-5'), ('F9 FT  B1031.2', 'SES-11 / EchoStar 105'), ('F9 B4 B1043.1', 'Zuma'), ('F9 FT  B1032.2', 'GovSat-1 / SES-16'), ('F9 B4  B1040.2', 'SES-12'), ('F9 B5 B1046.2', 'Merah Putih '), ('F9 B5 B1047.2', 'Es hail 2'), ('F9 B5 B1046.3', 'SSO-A '), ('F9 B5B1054', 'GPS III-01 '), ('F9 B5 B1048.3', 'Nusantara Satu, Beresheet Moon lander, S5'), ('F9 B5 B1051.2 ', 'RADARSAT Constellation, SpaceX CRS-18 '), ('F9 B5B1060.1', 'GPS III-03, ANASIS-II'), ('F9 B5 B1058.2 ', 'ANASIS-II, Starlink 9 v1.0'), ('F9 B5B1062.1', 'GPS III-04 , Crew-1')]\n",
            "[('F9 v1.1', 'AsiaSat 8'), ('F9 v1.1 B1011', 'AsiaSat 6'), ('F9 v1.1 B1014', 'ABS-3A Eutelsat 115 West B'), ('F9 v1.1 B1016', 'Turkmen 52 / MonacoSAT'), ('F9 FT B1020', 'SES-9'), ('F9 FT B1022', 'JCSAT-14'), ('F9 FT B1026', 'JCSAT-16'), ('F9 FT B1030', 'EchoStar 23'), ('F9 FT  B1021.2', 'SES-10'), ('F9 FT B1032.1', 'NROL-76'), ('F9 B4 B1040.1', 'Boeing X-37B OTV-5'), ('F9 FT  B1031.2', 'SES-11 / EchoStar 105'), ('F9 B4 B1043.1', 'Zuma'), ('F9 FT  B1032.2', 'GovSat-1 / SES-16'), ('F9 B4  B1040.2', 'SES-12'), ('F9 B5 B1046.2', 'Merah Putih '), ('F9 B5 B1047.2', 'Es hail 2'), ('F9 B5 B1046.3', 'SSO-A '), ('F9 B5B1054', 'GPS III-01 '), ('F9 B5 B1048.3', 'Nusantara Satu, Beresheet Moon lander, S5'), ('F9 B5 B1051.2 ', 'RADARSAT Constellation, SpaceX CRS-18 '), ('F9 B5B1060.1', 'GPS III-03, ANASIS-II'), ('F9 B5 B1058.2 ', 'ANASIS-II, Starlink 9 v1.0'), ('F9 B5B1062.1', 'GPS III-04 , Crew-1')]\n",
            "[('F9 v1.1', 'AsiaSat 8'), ('F9 v1.1 B1011', 'AsiaSat 6'), ('F9 v1.1 B1014', 'ABS-3A Eutelsat 115 West B'), ('F9 v1.1 B1016', 'Turkmen 52 / MonacoSAT'), ('F9 FT B1020', 'SES-9'), ('F9 FT B1022', 'JCSAT-14'), ('F9 FT B1026', 'JCSAT-16'), ('F9 FT B1030', 'EchoStar 23'), ('F9 FT  B1021.2', 'SES-10'), ('F9 FT B1032.1', 'NROL-76'), ('F9 B4 B1040.1', 'Boeing X-37B OTV-5'), ('F9 FT  B1031.2', 'SES-11 / EchoStar 105'), ('F9 B4 B1043.1', 'Zuma'), ('F9 FT  B1032.2', 'GovSat-1 / SES-16'), ('F9 B4  B1040.2', 'SES-12'), ('F9 B5 B1046.2', 'Merah Putih '), ('F9 B5 B1047.2', 'Es hail 2'), ('F9 B5 B1046.3', 'SSO-A '), ('F9 B5B1054', 'GPS III-01 '), ('F9 B5 B1048.3', 'Nusantara Satu, Beresheet Moon lander, S5'), ('F9 B5 B1051.2 ', 'RADARSAT Constellation, SpaceX CRS-18 '), ('F9 B5B1060.1', 'GPS III-03, ANASIS-II'), ('F9 B5 B1058.2 ', 'ANASIS-II, Starlink 9 v1.0'), ('F9 B5B1062.1', 'GPS III-04 , Crew-1')]\n",
            "[('F9 v1.1', 'AsiaSat 8'), ('F9 v1.1 B1011', 'AsiaSat 6'), ('F9 v1.1 B1014', 'ABS-3A Eutelsat 115 West B'), ('F9 v1.1 B1016', 'Turkmen 52 / MonacoSAT'), ('F9 FT B1020', 'SES-9'), ('F9 FT B1022', 'JCSAT-14'), ('F9 FT B1026', 'JCSAT-16'), ('F9 FT B1030', 'EchoStar 23'), ('F9 FT  B1021.2', 'SES-10'), ('F9 FT B1032.1', 'NROL-76'), ('F9 B4 B1040.1', 'Boeing X-37B OTV-5'), ('F9 FT  B1031.2', 'SES-11 / EchoStar 105'), ('F9 B4 B1043.1', 'Zuma'), ('F9 FT  B1032.2', 'GovSat-1 / SES-16'), ('F9 B4  B1040.2', 'SES-12'), ('F9 B5 B1046.2', 'Merah Putih '), ('F9 B5 B1047.2', 'Es hail 2'), ('F9 B5 B1046.3', 'SSO-A '), ('F9 B5B1054', 'GPS III-01 '), ('F9 B5 B1048.3', 'Nusantara Satu, Beresheet Moon lander, S5'), ('F9 B5 B1051.2 ', 'RADARSAT Constellation, SpaceX CRS-18 '), ('F9 B5B1060.1', 'GPS III-03, ANASIS-II'), ('F9 B5 B1058.2 ', 'ANASIS-II, Starlink 9 v1.0'), ('F9 B5B1062.1', 'GPS III-04 , Crew-1')]\n",
            "[('F9 v1.1', 'AsiaSat 8'), ('F9 v1.1 B1011', 'AsiaSat 6'), ('F9 v1.1 B1014', 'ABS-3A Eutelsat 115 West B'), ('F9 v1.1 B1016', 'Turkmen 52 / MonacoSAT'), ('F9 FT B1020', 'SES-9'), ('F9 FT B1022', 'JCSAT-14'), ('F9 FT B1026', 'JCSAT-16'), ('F9 FT B1030', 'EchoStar 23'), ('F9 FT  B1021.2', 'SES-10'), ('F9 FT B1032.1', 'NROL-76'), ('F9 B4 B1040.1', 'Boeing X-37B OTV-5'), ('F9 FT  B1031.2', 'SES-11 / EchoStar 105'), ('F9 B4 B1043.1', 'Zuma'), ('F9 FT  B1032.2', 'GovSat-1 / SES-16'), ('F9 B4  B1040.2', 'SES-12'), ('F9 B5 B1046.2', 'Merah Putih '), ('F9 B5 B1047.2', 'Es hail 2'), ('F9 B5 B1046.3', 'SSO-A '), ('F9 B5B1054', 'GPS III-01 '), ('F9 B5 B1048.3', 'Nusantara Satu, Beresheet Moon lander, S5'), ('F9 B5 B1051.2 ', 'RADARSAT Constellation, SpaceX CRS-18 '), ('F9 B5B1060.1', 'GPS III-03, ANASIS-II'), ('F9 B5 B1058.2 ', 'ANASIS-II, Starlink 9 v1.0'), ('F9 B5B1062.1', 'GPS III-04 , Crew-1')]\n",
            "[('F9 v1.1', 'AsiaSat 8'), ('F9 v1.1 B1011', 'AsiaSat 6'), ('F9 v1.1 B1014', 'ABS-3A Eutelsat 115 West B'), ('F9 v1.1 B1016', 'Turkmen 52 / MonacoSAT'), ('F9 FT B1020', 'SES-9'), ('F9 FT B1022', 'JCSAT-14'), ('F9 FT B1026', 'JCSAT-16'), ('F9 FT B1030', 'EchoStar 23'), ('F9 FT  B1021.2', 'SES-10'), ('F9 FT B1032.1', 'NROL-76'), ('F9 B4 B1040.1', 'Boeing X-37B OTV-5'), ('F9 FT  B1031.2', 'SES-11 / EchoStar 105'), ('F9 B4 B1043.1', 'Zuma'), ('F9 FT  B1032.2', 'GovSat-1 / SES-16'), ('F9 B4  B1040.2', 'SES-12'), ('F9 B5 B1046.2', 'Merah Putih '), ('F9 B5 B1047.2', 'Es hail 2'), ('F9 B5 B1046.3', 'SSO-A '), ('F9 B5B1054', 'GPS III-01 '), ('F9 B5 B1048.3', 'Nusantara Satu, Beresheet Moon lander, S5'), ('F9 B5 B1051.2 ', 'RADARSAT Constellation, SpaceX CRS-18 '), ('F9 B5B1060.1', 'GPS III-03, ANASIS-II'), ('F9 B5 B1058.2 ', 'ANASIS-II, Starlink 9 v1.0'), ('F9 B5B1062.1', 'GPS III-04 , Crew-1')]\n",
            "[('F9 v1.1', 'AsiaSat 8'), ('F9 v1.1 B1011', 'AsiaSat 6'), ('F9 v1.1 B1014', 'ABS-3A Eutelsat 115 West B'), ('F9 v1.1 B1016', 'Turkmen 52 / MonacoSAT'), ('F9 FT B1020', 'SES-9'), ('F9 FT B1022', 'JCSAT-14'), ('F9 FT B1026', 'JCSAT-16'), ('F9 FT B1030', 'EchoStar 23'), ('F9 FT  B1021.2', 'SES-10'), ('F9 FT B1032.1', 'NROL-76'), ('F9 B4 B1040.1', 'Boeing X-37B OTV-5'), ('F9 FT  B1031.2', 'SES-11 / EchoStar 105'), ('F9 B4 B1043.1', 'Zuma'), ('F9 FT  B1032.2', 'GovSat-1 / SES-16'), ('F9 B4  B1040.2', 'SES-12'), ('F9 B5 B1046.2', 'Merah Putih '), ('F9 B5 B1047.2', 'Es hail 2'), ('F9 B5 B1046.3', 'SSO-A '), ('F9 B5B1054', 'GPS III-01 '), ('F9 B5 B1048.3', 'Nusantara Satu, Beresheet Moon lander, S5'), ('F9 B5 B1051.2 ', 'RADARSAT Constellation, SpaceX CRS-18 '), ('F9 B5B1060.1', 'GPS III-03, ANASIS-II'), ('F9 B5 B1058.2 ', 'ANASIS-II, Starlink 9 v1.0'), ('F9 B5B1062.1', 'GPS III-04 , Crew-1')]\n",
            "[('F9 v1.1', 'AsiaSat 8'), ('F9 v1.1 B1011', 'AsiaSat 6'), ('F9 v1.1 B1014', 'ABS-3A Eutelsat 115 West B'), ('F9 v1.1 B1016', 'Turkmen 52 / MonacoSAT'), ('F9 FT B1020', 'SES-9'), ('F9 FT B1022', 'JCSAT-14'), ('F9 FT B1026', 'JCSAT-16'), ('F9 FT B1030', 'EchoStar 23'), ('F9 FT  B1021.2', 'SES-10'), ('F9 FT B1032.1', 'NROL-76'), ('F9 B4 B1040.1', 'Boeing X-37B OTV-5'), ('F9 FT  B1031.2', 'SES-11 / EchoStar 105'), ('F9 B4 B1043.1', 'Zuma'), ('F9 FT  B1032.2', 'GovSat-1 / SES-16'), ('F9 B4  B1040.2', 'SES-12'), ('F9 B5 B1046.2', 'Merah Putih '), ('F9 B5 B1047.2', 'Es hail 2'), ('F9 B5 B1046.3', 'SSO-A '), ('F9 B5B1054', 'GPS III-01 '), ('F9 B5 B1048.3', 'Nusantara Satu, Beresheet Moon lander, S5'), ('F9 B5 B1051.2 ', 'RADARSAT Constellation, SpaceX CRS-18 '), ('F9 B5B1060.1', 'GPS III-03, ANASIS-II'), ('F9 B5 B1058.2 ', 'ANASIS-II, Starlink 9 v1.0'), ('F9 B5B1062.1', 'GPS III-04 , Crew-1')]\n",
            "[('F9 v1.1', 'AsiaSat 8'), ('F9 v1.1 B1011', 'AsiaSat 6'), ('F9 v1.1 B1014', 'ABS-3A Eutelsat 115 West B'), ('F9 v1.1 B1016', 'Turkmen 52 / MonacoSAT'), ('F9 FT B1020', 'SES-9'), ('F9 FT B1022', 'JCSAT-14'), ('F9 FT B1026', 'JCSAT-16'), ('F9 FT B1030', 'EchoStar 23'), ('F9 FT  B1021.2', 'SES-10'), ('F9 FT B1032.1', 'NROL-76'), ('F9 B4 B1040.1', 'Boeing X-37B OTV-5'), ('F9 FT  B1031.2', 'SES-11 / EchoStar 105'), ('F9 B4 B1043.1', 'Zuma'), ('F9 FT  B1032.2', 'GovSat-1 / SES-16'), ('F9 B4  B1040.2', 'SES-12'), ('F9 B5 B1046.2', 'Merah Putih '), ('F9 B5 B1047.2', 'Es hail 2'), ('F9 B5 B1046.3', 'SSO-A '), ('F9 B5B1054', 'GPS III-01 '), ('F9 B5 B1048.3', 'Nusantara Satu, Beresheet Moon lander, S5'), ('F9 B5 B1051.2 ', 'RADARSAT Constellation, SpaceX CRS-18 '), ('F9 B5B1060.1', 'GPS III-03, ANASIS-II'), ('F9 B5 B1058.2 ', 'ANASIS-II, Starlink 9 v1.0'), ('F9 B5B1062.1', 'GPS III-04 , Crew-1')]\n",
            "[('F9 v1.1', 'AsiaSat 8'), ('F9 v1.1 B1011', 'AsiaSat 6'), ('F9 v1.1 B1014', 'ABS-3A Eutelsat 115 West B'), ('F9 v1.1 B1016', 'Turkmen 52 / MonacoSAT'), ('F9 FT B1020', 'SES-9'), ('F9 FT B1022', 'JCSAT-14'), ('F9 FT B1026', 'JCSAT-16'), ('F9 FT B1030', 'EchoStar 23'), ('F9 FT  B1021.2', 'SES-10'), ('F9 FT B1032.1', 'NROL-76'), ('F9 B4 B1040.1', 'Boeing X-37B OTV-5'), ('F9 FT  B1031.2', 'SES-11 / EchoStar 105'), ('F9 B4 B1043.1', 'Zuma'), ('F9 FT  B1032.2', 'GovSat-1 / SES-16'), ('F9 B4  B1040.2', 'SES-12'), ('F9 B5 B1046.2', 'Merah Putih '), ('F9 B5 B1047.2', 'Es hail 2'), ('F9 B5 B1046.3', 'SSO-A '), ('F9 B5B1054', 'GPS III-01 '), ('F9 B5 B1048.3', 'Nusantara Satu, Beresheet Moon lander, S5'), ('F9 B5 B1051.2 ', 'RADARSAT Constellation, SpaceX CRS-18 '), ('F9 B5B1060.1', 'GPS III-03, ANASIS-II'), ('F9 B5 B1058.2 ', 'ANASIS-II, Starlink 9 v1.0'), ('F9 B5B1062.1', 'GPS III-04 , Crew-1')]\n",
            "[('F9 v1.1', 'AsiaSat 8'), ('F9 v1.1 B1011', 'AsiaSat 6'), ('F9 v1.1 B1014', 'ABS-3A Eutelsat 115 West B'), ('F9 v1.1 B1016', 'Turkmen 52 / MonacoSAT'), ('F9 FT B1020', 'SES-9'), ('F9 FT B1022', 'JCSAT-14'), ('F9 FT B1026', 'JCSAT-16'), ('F9 FT B1030', 'EchoStar 23'), ('F9 FT  B1021.2', 'SES-10'), ('F9 FT B1032.1', 'NROL-76'), ('F9 B4 B1040.1', 'Boeing X-37B OTV-5'), ('F9 FT  B1031.2', 'SES-11 / EchoStar 105'), ('F9 B4 B1043.1', 'Zuma'), ('F9 FT  B1032.2', 'GovSat-1 / SES-16'), ('F9 B4  B1040.2', 'SES-12'), ('F9 B5 B1046.2', 'Merah Putih '), ('F9 B5 B1047.2', 'Es hail 2'), ('F9 B5 B1046.3', 'SSO-A '), ('F9 B5B1054', 'GPS III-01 '), ('F9 B5 B1048.3', 'Nusantara Satu, Beresheet Moon lander, S5'), ('F9 B5 B1051.2 ', 'RADARSAT Constellation, SpaceX CRS-18 '), ('F9 B5B1060.1', 'GPS III-03, ANASIS-II'), ('F9 B5 B1058.2 ', 'ANASIS-II, Starlink 9 v1.0'), ('F9 B5B1062.1', 'GPS III-04 , Crew-1')]\n"
          ]
        }
      ],
      "source": [
        "# List the names of the boosters which have success in drone ship and have payload\n",
        "# mass greater than 4000 but less than 6000\n",
        "res = cur.execute(\"Select Booster_Version, Payload \\\n",
        "                    from SPACEXTBL \\\n",
        "                    where Mission_Outcome LIKE '%Success%' \\\n",
        "                    AND PAYLOAD_MASS__KG_ BETWEEN 4000 AND 6000\").fetchall()\n",
        "for i in res:\n",
        "    print(res)"
      ],
      "execution_count": 123
    },
    {
      "cell_type": "code",
      "metadata": {
        "colab": {
          "base_uri": "https://localhost:8080/"
        },
        "id": "667a24a3-2df9-4d09-8ac9-0a0dea820ae1",
        "outputId": "5ab58005-23aa-4433-e129-535d3f4acbd2"
      },
      "outputs": [
        {
          "output_type": "stream",
          "name": "stdout",
          "text": [
            "100\n",
            "1\n"
          ]
        }
      ],
      "source": [
        "# List the total number of successful and failure mission outcomes\n",
        "res = cur.execute(\"Select count(Mission_Outcome) \\\n",
        "                    from SPACEXTBL \\\n",
        "                    where Mission_Outcome LIKE '%Success%'\").fetchall()\n",
        "print(res[0][0])\n",
        "\n",
        "res = cur.execute(\"Select count(Mission_Outcome) \\\n",
        "                    from SPACEXTBL \\\n",
        "                    where Mission_Outcome NOT LIKE '%Success%'\").fetchall()\n",
        "print(res[0][0])\n",
        "\n"
      ],
      "execution_count": 130
    },
    {
      "cell_type": "code",
      "metadata": {
        "colab": {
          "base_uri": "https://localhost:8080/"
        },
        "id": "11e86ead-4a7f-4281-a52a-1c28ca5a654e",
        "outputId": "c5edd14e-ecce-4291-e248-1044d2b8b032"
      },
      "outputs": [
        {
          "output_type": "stream",
          "name": "stdout",
          "text": [
            "[('F9 v1.0  B0003',), ('F9 v1.0  B0004',), ('F9 v1.0  B0005',), ('F9 v1.0  B0006',), ('F9 v1.0  B0007',), ('F9 v1.1  B1003',), ('F9 v1.1',), ('F9 v1.1',), ('F9 v1.1',), ('F9 v1.1',), ('F9 v1.1',), ('F9 v1.1 B1011',), ('F9 v1.1 B1010',), ('F9 v1.1 B1012',), ('F9 v1.1 B1013',), ('F9 v1.1 B1014',), ('F9 v1.1 B1015',), ('F9 v1.1 B1016',), ('F9 v1.1 B1018',), ('F9 FT B1019',), ('F9 v1.1 B1017',), ('F9 FT B1020',), ('F9 FT B1021.1',), ('F9 FT B1022',), ('F9 FT B1023.1',), ('F9 FT B1024',), ('F9 FT B1025.1',), ('F9 FT B1026',), ('F9 FT B1029.1',), ('F9 FT B1031.1',), ('F9 FT B1030',), ('F9 FT  B1021.2',), ('F9 FT B1032.1',), ('F9 FT B1034',), ('F9 FT B1035.1',), ('F9 FT  B1029.2',), ('F9 FT B1036.1',), ('F9 FT B1037',), ('F9 B4 B1039.1',), ('F9 FT B1038.1',), ('F9 B4 B1040.1',), ('F9 B4 B1041.1',), ('F9 FT  B1031.2',), ('F9 B4 B1042.1',), ('F9 FT  B1035.2',), ('F9 FT  B1036.2',), ('F9 B4 B1043.1',), ('F9 FT  B1032.2',), ('F9 FT  B1038.2',), ('F9 B4 B1044',), ('F9 B4  B1041.2',), ('F9 B4  B1039.2',), ('F9 B4 B1045.1',), ('F9 B5  B1046.1',), ('F9 B4  B1043.2',), ('F9 B4  B1040.2',), ('F9 B4 B1045.2',), ('F9 B5B1047.1',), ('F9 B5B1048.1',), ('F9 B5 B1046.2',), ('F9 B5B1049.1',), ('F9 B5 B1048.2',), ('F9 B5 B1047.2',), ('F9 B5 B1046.3',), ('F9 B5B1050',), ('F9 B5B1054',), ('F9 B5 B1049.2',), ('F9 B5 B1048.3',), ('F9 B5B1051.1',), ('F9 B5B1056.1 ',), ('F9 B5 B1049.3',), ('F9 B5 B1051.2 ',), ('F9 B5 B1056.2 ',), ('F9 B5 B1047.3 ',), ('F9 B5 B1048.4',), ('F9 B5B1059.1',), ('F9 B5 B1056.3 ',), ('F9 B5 B1049.4',), ('F9 B5 B1046.4',), ('F9 B5 B1051.3',), ('F9 B5 B1056.4',), ('F9 B5 B1059.2',), ('F9 B5 B1048.5',), ('F9 B5 B1051.4',), ('F9 B5B1058.1 ',), ('F9 B5 B1049.5',), ('F9 B5 B1059.3',), ('F9 B5B1060.1',), ('F9 B5 B1058.2 ',), ('F9 B5 B1051.5',), ('F9 B5 B1049.6',), ('F9 B5 B1059.4',), ('F9 B5 B1060.2 ',), ('F9 B5 B1058.3 ',), ('F9 B5 B1051.6',), ('F9 B5 B1060.3',), ('F9 B5B1062.1',), ('F9 B5B1061.1 ',), ('F9 B5B1063.1',), ('F9 B5 B1049.7 ',), ('F9 B5 B1058.4 ',), (None,), (None,), (None,), (None,), (None,), (None,), (None,), (None,), (None,), (None,), (None,), (None,), (None,), (None,), (None,), (None,), (None,), (None,), (None,), (None,), (None,), (None,), (None,), (None,), (None,), (None,), (None,), (None,), (None,), (None,), (None,), (None,), (None,), (None,), (None,), (None,), (None,), (None,), (None,), (None,), (None,), (None,), (None,), (None,), (None,), (None,), (None,), (None,), (None,), (None,), (None,), (None,), (None,), (None,), (None,), (None,), (None,), (None,), (None,), (None,), (None,), (None,), (None,), (None,), (None,), (None,), (None,), (None,), (None,), (None,), (None,), (None,), (None,), (None,), (None,), (None,), (None,), (None,), (None,), (None,), (None,), (None,), (None,), (None,), (None,), (None,), (None,), (None,), (None,), (None,), (None,), (None,), (None,), (None,), (None,), (None,), (None,), (None,), (None,), (None,), (None,), (None,), (None,), (None,), (None,), (None,), (None,), (None,), (None,), (None,), (None,), (None,), (None,), (None,), (None,), (None,), (None,), (None,), (None,), (None,), (None,), (None,), (None,), (None,), (None,), (None,), (None,), (None,), (None,), (None,), (None,), (None,), (None,), (None,), (None,), (None,), (None,), (None,), (None,), (None,), (None,), (None,), (None,), (None,), (None,), (None,), (None,), (None,), (None,), (None,), (None,), (None,), (None,), (None,), (None,), (None,), (None,), (None,), (None,), (None,), (None,), (None,), (None,), (None,), (None,), (None,), (None,), (None,), (None,), (None,), (None,), (None,), (None,), (None,), (None,), (None,), (None,), (None,), (None,), (None,), (None,), (None,), (None,), (None,), (None,), (None,), (None,), (None,), (None,), (None,), (None,), (None,), (None,), (None,), (None,), (None,), (None,), (None,), (None,), (None,), (None,), (None,), (None,), (None,), (None,), (None,), (None,), (None,), (None,), (None,), (None,), (None,), (None,), (None,), (None,), (None,), (None,), (None,), (None,), (None,), (None,), (None,), (None,), (None,), (None,), (None,), (None,), (None,), (None,), (None,), (None,), (None,), (None,), (None,), (None,), (None,), (None,), (None,), (None,), (None,), (None,), (None,), (None,), (None,), (None,), (None,), (None,), (None,), (None,), (None,), (None,), (None,), (None,), (None,), (None,), (None,), (None,), (None,), (None,), (None,), (None,), (None,), (None,), (None,), (None,), (None,), (None,), (None,), (None,), (None,), (None,), (None,), (None,), (None,), (None,), (None,), (None,), (None,), (None,), (None,), (None,), (None,), (None,), (None,), (None,), (None,), (None,), (None,), (None,), (None,), (None,), (None,), (None,), (None,), (None,), (None,), (None,), (None,), (None,), (None,), (None,), (None,), (None,), (None,), (None,), (None,), (None,), (None,), (None,), (None,), (None,), (None,), (None,), (None,), (None,), (None,), (None,), (None,), (None,), (None,), (None,), (None,), (None,), (None,), (None,), (None,), (None,), (None,), (None,), (None,), (None,), (None,), (None,), (None,), (None,), (None,), (None,), (None,), (None,), (None,), (None,), (None,), (None,), (None,), (None,), (None,), (None,), (None,), (None,), (None,), (None,), (None,), (None,), (None,), (None,), (None,), (None,), (None,), (None,), (None,), (None,), (None,), (None,), (None,), (None,), (None,), (None,), (None,), (None,), (None,), (None,), (None,), (None,), (None,), (None,), (None,), (None,), (None,), (None,), (None,), (None,), (None,), (None,), (None,), (None,), (None,), (None,), (None,), (None,), (None,), (None,), (None,), (None,), (None,), (None,), (None,), (None,), (None,), (None,), (None,), (None,), (None,), (None,), (None,), (None,), (None,), (None,), (None,), (None,), (None,), (None,), (None,), (None,), (None,), (None,), (None,), (None,), (None,), (None,), (None,), (None,), (None,), (None,), (None,), (None,), (None,), (None,), (None,), (None,), (None,), (None,), (None,), (None,), (None,), (None,), (None,), (None,), (None,), (None,), (None,), (None,), (None,), (None,), (None,), (None,), (None,), (None,), (None,), (None,), (None,), (None,), (None,), (None,), (None,), (None,), (None,), (None,), (None,), (None,), (None,), (None,), (None,), (None,), (None,), (None,), (None,), (None,), (None,), (None,), (None,), (None,), (None,), (None,), (None,), (None,), (None,), (None,), (None,), (None,), (None,), (None,), (None,), (None,), (None,), (None,), (None,), (None,), (None,), (None,), (None,), (None,), (None,), (None,), (None,), (None,), (None,), (None,), (None,), (None,), (None,), (None,), (None,), (None,), (None,), (None,), (None,), (None,), (None,), (None,), (None,), (None,), (None,), (None,), (None,), (None,), (None,), (None,), (None,), (None,), (None,), (None,), (None,), (None,), (None,), (None,), (None,), (None,), (None,), (None,), (None,), (None,), (None,), (None,), (None,), (None,), (None,), (None,), (None,), (None,), (None,), (None,), (None,), (None,), (None,), (None,), (None,), (None,), (None,), (None,), (None,), (None,), (None,), (None,), (None,), (None,), (None,), (None,), (None,), (None,), (None,), (None,), (None,), (None,), (None,), (None,), (None,), (None,), (None,), (None,), (None,), (None,), (None,), (None,), (None,), (None,), (None,), (None,), (None,), (None,), (None,), (None,), (None,), (None,), (None,), (None,), (None,), (None,), (None,), (None,), (None,), (None,), (None,), (None,), (None,), (None,), (None,), (None,), (None,), (None,), (None,), (None,), (None,), (None,), (None,), (None,), (None,), (None,), (None,), (None,), (None,), (None,), (None,), (None,), (None,), (None,), (None,), (None,), (None,), (None,), (None,), (None,), (None,), (None,), (None,), (None,), (None,), (None,), (None,), (None,), (None,), (None,), (None,), (None,), (None,), (None,), (None,), (None,), (None,), (None,), (None,), (None,), (None,), (None,), (None,), (None,), (None,), (None,), (None,), (None,), (None,), (None,), (None,), (None,), (None,), (None,), (None,), (None,), (None,), (None,), (None,), (None,), (None,), (None,), (None,), (None,), (None,), (None,), (None,), (None,), (None,), (None,), (None,), (None,), (None,), (None,), (None,), (None,), (None,), (None,), (None,), (None,), (None,), (None,), (None,), (None,), (None,), (None,), (None,), (None,), (None,), (None,), (None,), (None,), (None,), (None,), (None,), (None,), (None,), (None,), (None,), (None,), (None,), (None,), (None,), (None,), (None,), (None,), (None,), (None,), (None,), (None,), (None,), (None,), (None,), (None,), (None,), (None,), (None,), (None,), (None,), (None,), (None,), (None,), (None,), (None,), (None,), (None,), (None,), (None,), (None,), (None,), (None,), (None,), (None,), (None,), (None,), (None,), (None,), (None,), (None,), (None,), (None,), (None,), (None,), (None,), (None,), (None,), (None,), (None,), (None,), (None,), (None,), (None,), (None,), (None,), (None,), (None,), (None,), (None,), (None,), (None,), (None,), (None,), (None,), (None,), (None,), (None,), (None,), (None,), (None,), (None,), (None,), (None,), (None,), (None,), (None,), (None,), (None,), (None,), (None,), (None,), (None,), (None,), (None,), (None,), (None,), (None,), (None,), (None,), (None,), (None,), (None,), (None,), (None,), (None,), (None,), (None,), (None,), (None,), (None,), (None,), (None,), (None,), (None,), (None,), (None,), (None,), (None,), (None,), (None,), (None,), (None,), (None,), (None,), (None,), (None,), (None,), (None,), (None,), (None,), (None,), (None,), (None,), (None,), (None,), (None,), (None,), (None,), (None,), (None,), (None,), (None,), (None,), (None,), (None,), (None,), (None,), (None,), (None,), (None,), (None,), (None,), (None,), (None,), (None,), (None,), (None,), (None,), (None,), (None,), (None,), (None,), (None,), (None,), (None,), (None,), (None,), (None,), (None,), (None,), (None,), (None,), (None,), (None,), (None,), (None,), (None,), (None,), (None,), (None,), (None,), (None,), (None,), (None,), (None,), (None,), (None,), (None,), (None,), (None,), (None,), (None,), (None,), (None,), (None,), (None,), (None,), (None,), (None,), (None,), (None,), (None,), (None,), (None,), (None,), (None,), (None,), (None,)]\n"
          ]
        }
      ],
      "source": [
        "# List the names of the booster_versions which have carried the maximum payload mass.\n",
        "res = cur.execute(\"Select Booster_Version \\\n",
        "                    from SPACEXTBL \\\n",
        "                    where (Select max(PAYLOAD_MASS__KG_) from SPACEXTBL)\").fetchall()\n",
        "print(res)"
      ],
      "execution_count": 131
    },
    {
      "cell_type": "code",
      "metadata": {
        "colab": {
          "base_uri": "https://localhost:8080/"
        },
        "id": "573385b7-ec13-4c88-807b-e1b62dc0a9b0",
        "outputId": "53449dca-1f8c-4611-83f6-5dd39f332ed4"
      },
      "outputs": [
        {
          "output_type": "stream",
          "name": "stdout",
          "text": [
            "('October', 'Failure (drone ship)', 'F9 v1.1 B1012', 'CCAFS LC-40')\n",
            "('November', 'Controlled (ocean)', 'F9 v1.1 B1013', 'CCAFS LC-40')\n",
            "('February', 'No attempt', 'F9 v1.1 B1014', 'CCAFS LC-40')\n",
            "('April', 'Failure (drone ship)', 'F9 v1.1 B1015', 'CCAFS LC-40')\n",
            "('April', 'No attempt', 'F9 v1.1 B1016', 'CCAFS LC-40')\n",
            "('June', 'Precluded (drone ship)', 'F9 v1.1 B1018', 'CCAFS LC-40')\n",
            "('December', 'Success (ground pad)', 'F9 FT B1019', 'CCAFS LC-40')\n"
          ]
        }
      ],
      "source": [
        "# List the records which will display the month names, failure landing_outcomes\n",
        "# in drone ship ,booster versions, launch_site for the months in year 2015.\n",
        "res = cur.execute(\"SELECT CASE SUBSTR(Date, 4, 2) \\\n",
        "                    WHEN '01' THEN 'January' \\\n",
        "                    WHEN '02' THEN 'February' \\\n",
        "                    WHEN '03' THEN 'March' \\\n",
        "                    WHEN '04' THEN 'April' \\\n",
        "                    WHEN '05' THEN 'May' \\\n",
        "                    WHEN '06' THEN 'June' \\\n",
        "                    WHEN '07' THEN 'July' \\\n",
        "                    WHEN '08' THEN 'August' \\\n",
        "                    WHEN '09' THEN 'September' \\\n",
        "                    WHEN '10' THEN 'October' \\\n",
        "                    WHEN '11' THEN 'November' \\\n",
        "                    WHEN '12' THEN 'December' \\\n",
        "                    ELSE '' \\\n",
        "                    END AS Month, \\\n",
        "                    Landing_Outcome AS Failure_Landing_Outcomes, \\\n",
        "                    Booster_Version AS Booster_Version, \\\n",
        "                    Launch_Site AS Launch_Site \\\n",
        "                    FROM SPACEXTBL \\\n",
        "                    WHERE SUBSTR(Date, 7, 4) = '2015'\").fetchall()\n",
        "\n",
        "for i in res:\n",
        "    print(i)"
      ],
      "execution_count": 152
    },
    {
      "cell_type": "code",
      "metadata": {
        "colab": {
          "base_uri": "https://localhost:8080/"
        },
        "id": "8499d104-9c2f-4d54-9824-0fd1bbdcacca",
        "outputId": "63b55933-f804-4a11-a435-b36e12549627"
      },
      "outputs": [
        {
          "output_type": "stream",
          "name": "stdout",
          "text": [
            "[('Success', 20), ('No attempt', 9), ('Success (drone ship)', 8), ('Success (ground pad)', 7), ('Failure (drone ship)', 3), ('Failure', 3), ('Failure (parachute)', 2), ('Controlled (ocean)', 2), ('No attempt ', 1)]\n",
            "[('Success', 20), ('No attempt', 9), ('Success (drone ship)', 8), ('Success (ground pad)', 7), ('Failure (drone ship)', 3), ('Failure', 3), ('Failure (parachute)', 2), ('Controlled (ocean)', 2), ('No attempt ', 1)]\n",
            "[('Success', 20), ('No attempt', 9), ('Success (drone ship)', 8), ('Success (ground pad)', 7), ('Failure (drone ship)', 3), ('Failure', 3), ('Failure (parachute)', 2), ('Controlled (ocean)', 2), ('No attempt ', 1)]\n",
            "[('Success', 20), ('No attempt', 9), ('Success (drone ship)', 8), ('Success (ground pad)', 7), ('Failure (drone ship)', 3), ('Failure', 3), ('Failure (parachute)', 2), ('Controlled (ocean)', 2), ('No attempt ', 1)]\n",
            "[('Success', 20), ('No attempt', 9), ('Success (drone ship)', 8), ('Success (ground pad)', 7), ('Failure (drone ship)', 3), ('Failure', 3), ('Failure (parachute)', 2), ('Controlled (ocean)', 2), ('No attempt ', 1)]\n",
            "[('Success', 20), ('No attempt', 9), ('Success (drone ship)', 8), ('Success (ground pad)', 7), ('Failure (drone ship)', 3), ('Failure', 3), ('Failure (parachute)', 2), ('Controlled (ocean)', 2), ('No attempt ', 1)]\n",
            "[('Success', 20), ('No attempt', 9), ('Success (drone ship)', 8), ('Success (ground pad)', 7), ('Failure (drone ship)', 3), ('Failure', 3), ('Failure (parachute)', 2), ('Controlled (ocean)', 2), ('No attempt ', 1)]\n",
            "[('Success', 20), ('No attempt', 9), ('Success (drone ship)', 8), ('Success (ground pad)', 7), ('Failure (drone ship)', 3), ('Failure', 3), ('Failure (parachute)', 2), ('Controlled (ocean)', 2), ('No attempt ', 1)]\n",
            "[('Success', 20), ('No attempt', 9), ('Success (drone ship)', 8), ('Success (ground pad)', 7), ('Failure (drone ship)', 3), ('Failure', 3), ('Failure (parachute)', 2), ('Controlled (ocean)', 2), ('No attempt ', 1)]\n"
          ]
        }
      ],
      "source": [
        "# Rank the count of landing outcomes (such as Failure (drone ship) or Success\n",
        "# (ground pad)) between the date 2010-06-04 and 2017-03-20, in descending order.\n",
        "\n",
        "res = cur.execute(\"SELECT Landing_Outcome, count(*) as Count \\\n",
        "                    FROM SPACEXTBL \\\n",
        "                    WHERE Date BETWEEN '04/06/2010' AND '20/03/2017' \\\n",
        "                    GROUP BY Landing_Outcome \\\n",
        "                    ORDER BY Count DESC\").fetchall()\n",
        "for r in res:\n",
        "    print(res)"
      ],
      "execution_count": 161
    }
  ],
  "metadata": {
    "kernelspec": {
      "display_name": "Python",
      "language": "python",
      "name": "conda-env-python-py"
    },
    "language_info": {
      "name": ""
    },
    "colab": {
      "provenance": []
    }
  },
  "nbformat": 4,
  "nbformat_minor": 0
}